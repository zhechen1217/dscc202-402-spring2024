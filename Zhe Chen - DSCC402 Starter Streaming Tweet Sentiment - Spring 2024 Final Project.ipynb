{
 "cells": [
  {
   "cell_type": "markdown",
   "metadata": {
    "application/vnd.databricks.v1+cell": {
     "cellMetadata": {
      "byteLimit": 2048000,
      "rowLimit": 10000
     },
     "inputWidgets": {},
     "nuid": "fc749083-2211-485c-943f-640e198b2c70",
     "showTitle": false,
     "title": ""
    }
   },
   "source": [
    "## DSCC202-402 Data Science at Scale Final Project\n",
    "### Tracking Tweet sentiment at scale using a pretrained transformer (classifier)\n",
    "<p>Consider the following illustration of the end to end system that you will be building.  Each student should do their own work.  The project will demonstrate your understanding of Spark Streaming, the medalion data architecture using Delta Lake, Spark Inference at Scale using an MLflow packaged model as well as Exploritory Data Analysis and System Tracking and Monitoring.</p>\n",
    "<br><br>\n",
    "<img src=\"https://data-science-at-scale.s3.amazonaws.com/images/pipeline.drawio.png\">\n",
    "\n",
    "<p>\n",
    "You will be pulling an updated copy of the course GitHub repositiory: <a href=\"https://github.com/lpalum/dscc202-402-spring2024\">The Repo</a>.  If you are unclear on how to pull an updated copy using the GitHub command line, the following <a href=\"https://techwritingmatters.com/how-to-update-your-forked-repository-on-github\">document</a> is helpful.  Be sure to add the professors and TAs as collaborators on your project. \n",
    "\n",
    "- lpalum@gmail.com GitHub ID: lpalum\n",
    "- ajay.anand@rochester.edu GitHub ID: ajayan12\n",
    "- divyamunot1999@gmail.com GitHub ID: divyamunot\n",
    "- ylong6@u.Rochester.edu GitHub ID: NinaLong2077\n",
    "\n",
    "Once you have updates your fork of the repository you should see the following template project that is resident in the final_project directory.\n",
    "</p>\n",
    "\n",
    "<img src=\"https://data-science-at-scale.s3.amazonaws.com/images/notebooks.drawio.png\">\n",
    "\n",
    "<p>\n",
    "You can then pull your project into the Databrick Workspace using the <a href=\"https://www.databricks.training/step-by-step/importing-courseware-from-github/index.html\">Repos</a> feature.\n",
    "Each student is expected to submit the URL of their project on GitHub with their code checked in on the main/master branch.  This illustration highlights the branching scheme that you may use to work on your code in steps and then merge your submission into your master branch before submitting.\n",
    "</p>\n",
    "<img src=\"https://data-science-at-scale.s3.amazonaws.com/images/github.drawio.png\">\n",
    "<p>\n",
    "Work your way through this notebook which will give you the steps required to submit a complete and compliant project.  The following illustration and associated data dictionary specifies the transformations and data that you are to generate for each step in the medallion pipeline.\n",
    "</p>\n",
    "<br><br>\n",
    "<img src=\"https://data-science-at-scale.s3.amazonaws.com/images/dataframes.drawio.png\">\n",
    "\n",
    "#### Bronze Data - raw ingest\n",
    "- date - string in the source json\n",
    "- user - string in the source json\n",
    "- text - tweet string in the source json\n",
    "- sentiment - the given sentiment of the text as determined by an unknown model that is provided in the source json\n",
    "- source_file - the path of the source json file the this row of data was read from\n",
    "- processing_time - a timestamp of when you read this row from the source json\n",
    "\n",
    "#### Silver Data - Bronze Preprocessing\n",
    "- timestamp - convert date string in the bronze data to a timestamp\n",
    "- mention - every @username mentioned in the text string in the bronze data gets a row in this silver data table.\n",
    "- cleaned_text - the bronze text data with the mentions (@username) removed.\n",
    "- sentiment - the given sentiment that was associated with the text in the bronze table.\n",
    "\n",
    "#### Gold Data - Silver Table Inference\n",
    "- timestamp - the timestamp from the silver data table rows\n",
    "- mention - the mention from the silver data table rows\n",
    "- cleaned_text - the cleaned_text from the silver data table rows\n",
    "- sentiment - the given sentiment from the silver data table rows\n",
    "- predicted_score - score out of 100 from the Hugging Face Sentiment Transformer\n",
    "- predicted_sentiment - string representation of the sentiment\n",
    "- sentiment_id - 0 for negative and 1 for postive associated with the given sentiment\n",
    "- predicted_sentiment_id - 0 for negative and 1 for positive assocaited with the Hugging Face Sentiment Transformer\n",
    "\n",
    "#### Application Data - Gold Table Aggregation\n",
    "- min_timestamp - the oldest timestamp on a given mention (@username)\n",
    "- max_timestamp - the newest timestamp on a given mention (@username)\n",
    "- mention - the user (@username) that this row pertains to.\n",
    "- negative - total negative tweets directed at this mention (@username)\n",
    "- neutral - total neutral tweets directed at this mention (@username)\n",
    "- positive - total positive tweets directed at this mention (@username)\n",
    "\n",
    "When you are designing your approach, one of the main decisions that you will need to make is how you are going to orchestrate the streaming data processing in your pipeline.  There are several valid approaches.  First, you may choose to start the bronze_stream and let it complete (read and append all of the source data) before preceeding and starting up the silver_stream.  This approach has latency associated with it but it will allow your code to proceed in a linear fashion and process all the data by the end of your notebook execution.  Another potential approach is to start all the streams and have a \"watch\" method to determine when the pipeline has processed sufficient or all of the source data before stopping and displaying results.  Both of these approaches are valid and have different implications on how you will trigger your steams and how you will gate the execution of your pipeline.  Think through how you want to proceed and ask questions if you need guidance. The following references may be helpful:\n",
    "- [Spark Structured Streaming Programming Guide](https://spark.apache.org/docs/latest/structured-streaming-programming-guide.html)\n",
    "- [Databricks Autoloader - Cloudfiles](https://docs.databricks.com/en/ingestion/auto-loader/index.html)\n",
    "\n",
    "### Be sure that your project runs end to end when *Run all* is executued on this notebook! (15 Points out of 60)"
   ]
  },
  {
   "cell_type": "code",
   "execution_count": 0,
   "metadata": {
    "application/vnd.databricks.v1+cell": {
     "cellMetadata": {
      "byteLimit": 2048000,
      "rowLimit": 10000
     },
     "inputWidgets": {},
     "nuid": "068f25d0-1387-4342-89cf-ce82a8d614ce",
     "showTitle": true,
     "title": "Pull in the Includes & Utiltites"
    }
   },
   "outputs": [
    {
     "output_type": "stream",
     "name": "stdout",
     "output_type": "stream",
     "text": [
      "\u001B[31mERROR: pip's dependency resolver does not currently take into account all the packages that are installed. This behaviour is the source of the following dependency conflicts.\r\npetastorm 0.11.4 requires pyspark>=2.1.0, which is not installed.\u001B[0m\r\n"
     ]
    },
    {
     "output_type": "display_data",
     "data": {
      "application/vnd.databricks.v1+bamboolib_hint": "{\"pd.DataFrames\": [], \"version\": \"0.0.1\"}",
      "text/plain": []
     },
     "metadata": {},
     "output_type": "display_data"
    },
    {
     "output_type": "display_data",
     "data": {
      "text/html": [
       "\n",
       "<H2>VERY IMPORTANT TO UNDERSTAND THE USE OF THESE VARIABLES!<br> Please ask if you are confused about their use.</H2>\n",
       "<table border=1>\n",
       "<tr><td><b>Variable Name</b></td><td><b>Value</b></td><td><b>Description</b></td></tr>\n",
       "<tr><td>TWEET_BUCKET_NAME</td><td>voc-75-databricks-data</td><td>AWS S3 Bucket Name where the tweets are coming into your system.</td></tr>\n",
       "<tr><td>TWEET_BUCKET_URL</td><td>https://voc-75-databricks-data.s3.amazonaws.com/</td><td>AWS S3 Bucket URL where the tweets are coming into your system.</td></tr>\n",
       "<tr><td>TWEET_SOURCE_PATH</td><td>s3a://voc-75-databricks-data/voc_volume/</td><td>AWS S3 Path where the tweets are coming into your system.</td></tr>\n",
       "<tr><td>USER_DIR</td><td>/tmp/labuser104917-3007336/</td><td>Path to the local storage (dbfs) for your project.</td></tr>\n",
       "<tr><td>BRONZE_CHECKPOINT</td><td>/tmp/labuser104917-3007336/bronze.checkpoint</td><td>Store your Bronze Checkpoint data here.</td></tr>\n",
       "<tr><td>BRONZE_DELTA</td><td>/tmp/labuser104917-3007336/bronze.delta</td><td>Store your Bronze Delta Table here.</td></tr>\n",
       "<tr><td>SILVER_CHECKPOINT</td><td>/tmp/labuser104917-3007336/silver.checkpoint</td><td>Store your Silver Checkpoint data here.</td></tr>\n",
       "<tr><td>SILVER_DELTA</td><td>/tmp/labuser104917-3007336/silver.delta</td><td>Store your Silver Delta Table here.</td></tr>\n",
       "<tr><td>GOLD_CHECKPOINT</td><td>/tmp/labuser104917-3007336/gold.checkpoint</td><td>Store your Gold Checkpoint data here.</td></tr>\n",
       "<tr><td>GOLD_DELTA</td><td>/tmp/labuser104917-3007336/gold.delta</td><td>Store your Gold Delta Table here.</td></tr>\n",
       "<tr><td>MODEL_NAME</td><td>HF_TWEET_SENTIMENT</td><td>Load this production model</td></tr>\n",
       "<tr><td>HF_MODEL_NAME</td><td>finiteautomata/bertweet-base-sentiment-analysis</td><td>The Hugging Face Model for Tweet sentiment classification: https://huggingface.co/finiteautomata/bertweet-base-sentiment-analysis </td></tr>\n",
       "</table>\n"
      ]
     },
     "metadata": {
      "application/vnd.databricks.v1+output": {
       "addedWidgets": {},
       "arguments": {},
       "data": "\n<H2>VERY IMPORTANT TO UNDERSTAND THE USE OF THESE VARIABLES!<br> Please ask if you are confused about their use.</H2>\n<table border=1>\n<tr><td><b>Variable Name</b></td><td><b>Value</b></td><td><b>Description</b></td></tr>\n<tr><td>TWEET_BUCKET_NAME</td><td>voc-75-databricks-data</td><td>AWS S3 Bucket Name where the tweets are coming into your system.</td></tr>\n<tr><td>TWEET_BUCKET_URL</td><td>https://voc-75-databricks-data.s3.amazonaws.com/</td><td>AWS S3 Bucket URL where the tweets are coming into your system.</td></tr>\n<tr><td>TWEET_SOURCE_PATH</td><td>s3a://voc-75-databricks-data/voc_volume/</td><td>AWS S3 Path where the tweets are coming into your system.</td></tr>\n<tr><td>USER_DIR</td><td>/tmp/labuser104917-3007336/</td><td>Path to the local storage (dbfs) for your project.</td></tr>\n<tr><td>BRONZE_CHECKPOINT</td><td>/tmp/labuser104917-3007336/bronze.checkpoint</td><td>Store your Bronze Checkpoint data here.</td></tr>\n<tr><td>BRONZE_DELTA</td><td>/tmp/labuser104917-3007336/bronze.delta</td><td>Store your Bronze Delta Table here.</td></tr>\n<tr><td>SILVER_CHECKPOINT</td><td>/tmp/labuser104917-3007336/silver.checkpoint</td><td>Store your Silver Checkpoint data here.</td></tr>\n<tr><td>SILVER_DELTA</td><td>/tmp/labuser104917-3007336/silver.delta</td><td>Store your Silver Delta Table here.</td></tr>\n<tr><td>GOLD_CHECKPOINT</td><td>/tmp/labuser104917-3007336/gold.checkpoint</td><td>Store your Gold Checkpoint data here.</td></tr>\n<tr><td>GOLD_DELTA</td><td>/tmp/labuser104917-3007336/gold.delta</td><td>Store your Gold Delta Table here.</td></tr>\n<tr><td>MODEL_NAME</td><td>HF_TWEET_SENTIMENT</td><td>Load this production model</td></tr>\n<tr><td>HF_MODEL_NAME</td><td>finiteautomata/bertweet-base-sentiment-analysis</td><td>The Hugging Face Model for Tweet sentiment classification: https://huggingface.co/finiteautomata/bertweet-base-sentiment-analysis </td></tr>\n</table>\n",
       "datasetInfos": [],
       "metadata": {},
       "removedWidgets": [],
       "textData": null,
       "type": "htmlSandbox"
      }
     },
     "output_type": "display_data"
    },
    {
     "output_type": "stream",
     "name": "stdout",
     "output_type": "stream",
     "text": [
      "the includes are included\n"
     ]
    }
   ],
   "source": [
    "%run ./includes/includes"
   ]
  },
  {
   "cell_type": "code",
   "execution_count": 0,
   "metadata": {
    "application/vnd.databricks.v1+cell": {
     "cellMetadata": {
      "byteLimit": 2048000,
      "rowLimit": 10000
     },
     "inputWidgets": {},
     "nuid": "6512bf1b-50e0-4a4b-84a9-e280a6260b56",
     "showTitle": true,
     "title": "Notebook Control Widgets (maybe helpful)"
    }
   },
   "outputs": [],
   "source": [
    "\"\"\"\n",
    "Adding a widget to the notebook to control the clearing of a previous run.\n",
    "or stopping the active streams using routines defined in the utilities notebook\n",
    "\"\"\"\n",
    "dbutils.widgets.removeAll()\n",
    "\n",
    "dbutils.widgets.dropdown(\"clear_previous_run\", \"No\", [\"No\",\"Yes\"])\n",
    "if (getArgument(\"clear_previous_run\") == \"Yes\"):\n",
    "    clear_previous_run()\n",
    "    print(\"Cleared all previous data.\")\n",
    "\n",
    "dbutils.widgets.dropdown(\"stop_streams\", \"No\", [\"No\",\"Yes\"])\n",
    "if (getArgument(\"stop_streams\") == \"Yes\"):\n",
    "    stop_all_streams()\n",
    "    print(\"Stopped all active streams.\")\n",
    "\n",
    "from delta import *\n",
    "dbutils.widgets.dropdown(\"optimize_tables\", \"No\", [\"No\",\"Yes\"])\n",
    "if (getArgument(\"optimize_tables\") == \"Yes\"):\n",
    "    # Suck up those small files that we have been appending.\n",
    "    DeltaTable.forPath(spark, BRONZE_DELTA).optimize().executeCompaction()\n",
    "    # Suck up those small files that we have been appending.\n",
    "    DeltaTable.forPath(spark, SILVER_DELTA).optimize().executeCompaction()\n",
    "    # Suck up those small files that we have been appending.\n",
    "    DeltaTable.forPath(spark, GOLD_DELTA).optimize().executeCompaction()\n",
    "    print(\"Optimized all of the Delta Tables\")"
   ]
  },
  {
   "cell_type": "markdown",
   "metadata": {
    "application/vnd.databricks.v1+cell": {
     "cellMetadata": {
      "byteLimit": 2048000,
      "rowLimit": 10000
     },
     "inputWidgets": {},
     "nuid": "e8ce7c13-7f8f-4e11-b50c-fdaebbcf3f99",
     "showTitle": false,
     "title": ""
    }
   },
   "source": [
    "## 1.0 Import your libraries here...\n",
    "- Are your shuffle partitions consistent with your cluster and your workload?\n",
    "- Do you have the necessary libraries to perform the required operations in the pipeline/application?"
   ]
  },
  {
   "cell_type": "code",
   "execution_count": 0,
   "metadata": {
    "application/vnd.databricks.v1+cell": {
     "cellMetadata": {
      "byteLimit": 2048000,
      "rowLimit": 10000
     },
     "inputWidgets": {},
     "nuid": "67bafbb7-d34e-4e86-b159-b2e062faa1d0",
     "showTitle": false,
     "title": ""
    }
   },
   "outputs": [],
   "source": [
    "# Import necessary libraries\n",
    "from delta.tables import *\n",
    "import mlflow\n",
    "import mlflow.sklearn\n",
    "import mlflow.pyfunc\n",
    "from pyspark.sql.types import *\n",
    "from pyspark.sql import functions as psf\n",
    "import json\n",
    "from pyspark.sql.streaming import *\n",
    "from pyspark.sql import *\n",
    "from pyspark.sql import SparkSession\n",
    "from pyspark.sql.functions import col, count, expr, regexp_extract, regexp_replace, to_timestamp, input_file_name, current_timestamp, udf, desc, sum as sql_sum, when\n",
    "from pyspark.sql.types import StructType, StructField, StringType, TimestampType, FloatType, IntegerType\n",
    "from pyspark.ml import PipelineModel\n",
    "import matplotlib.pyplot as plt\n",
    "import seaborn as sns\n",
    "import pandas as pd\n",
    "import boto3, botocore\n",
    "from pyspark.ml.evaluation import MulticlassClassificationEvaluator\n",
    "from pyspark.ml.feature import IndexToString\n",
    "from sklearn.metrics import confusion_matrix, classification_report"
   ]
  },
  {
   "cell_type": "markdown",
   "metadata": {
    "application/vnd.databricks.v1+cell": {
     "cellMetadata": {
      "byteLimit": 2048000,
      "rowLimit": 10000
     },
     "inputWidgets": {},
     "nuid": "2b7624b4-0aa5-46b7-9767-52f462b2c574",
     "showTitle": false,
     "title": ""
    }
   },
   "source": [
    "## 2.0 Use the utility functions to ...\n",
    "- Read the source file directory listing\n",
    "- Count the source files (how many are there?)\n",
    "- print the contents of one of the files"
   ]
  },
  {
   "cell_type": "code",
   "execution_count": 0,
   "metadata": {
    "application/vnd.databricks.v1+cell": {
     "cellMetadata": {
      "byteLimit": 2048000,
      "rowLimit": 10000
     },
     "inputWidgets": {},
     "nuid": "a59749d5-e45d-460f-9be1-33652cda2ea5",
     "showTitle": false,
     "title": ""
    }
   },
   "outputs": [
    {
     "output_type": "stream",
     "name": "stdout",
     "output_type": "stream",
     "text": [
      "Number of source files: 200001\n"
     ]
    }
   ],
   "source": [
    "# Using the utility functions\n",
    "TWEET_BUCKET_NAME = 'voc-75-databricks-data'\n",
    "df_source_listing = get_source_listing_df()  \n",
    "\n",
    "# Count the number of source files\n",
    "num_files = len(df_source_listing)\n",
    "print(f\"Number of source files: {num_files}\")"
   ]
  },
  {
   "cell_type": "code",
   "execution_count": 0,
   "metadata": {
    "application/vnd.databricks.v1+cell": {
     "cellMetadata": {
      "byteLimit": 2048000,
      "rowLimit": 10000
     },
     "inputWidgets": {},
     "nuid": "22d342f9-d4e9-4c66-af64-8ee66b5bc217",
     "showTitle": false,
     "title": ""
    }
   },
   "outputs": [
    {
     "output_type": "stream",
     "name": "stdout",
     "output_type": "stream",
     "text": [
      "Contents of the first file:\nb'{\"date\": \"Mon Apr 06 22:19:45 PDT 2009\", \"user\": \"_TheSpecialOne_\", \"text\": \"@switchfoot http://twitpic.com/2y1zl - Awww, that\\'s a bummer.  You shoulda got David Carr of Third Day to do it. ;D\", \"sentiment\": \"negative\"}'\n"
     ]
    }
   ],
   "source": [
    "# print the contents of one of the files\n",
    "if num_files > 0:\n",
    "    first_file_contents = show_s3_file_contents(df_source_listing.iloc[0]['File Name'])  # Pass only one argument\n",
    "    print(\"Contents of the first file:\")\n",
    "    print(first_file_contents)"
   ]
  },
  {
   "cell_type": "markdown",
   "metadata": {
    "application/vnd.databricks.v1+cell": {
     "cellMetadata": {
      "byteLimit": 2048000,
      "rowLimit": 10000
     },
     "inputWidgets": {},
     "nuid": "1676aed7-527f-4ea7-9d3b-52544e8c1e37",
     "showTitle": false,
     "title": ""
    }
   },
   "source": [
    "## 3.0 Transform the Raw Data to Bronze Data using a stream\n",
    "- define the schema for the raw data\n",
    "- setup a read stream using cloudfiles and the source data format\n",
    "- setup a write stream using cloudfiles to append to the bronze delta table\n",
    "- enforce schema\n",
    "- allow a new schema to be merged into the bronze delta table\n",
    "- Use the defined BRONZE_CHECKPOINT and BRONZE_DELTA paths defines in the includes\n",
    "- name your raw to bronze stream as bronze_stream\n",
    "- transform the raw data to the bronze data using the data definition at the top of the notebook"
   ]
  },
  {
   "cell_type": "code",
   "execution_count": 0,
   "metadata": {
    "application/vnd.databricks.v1+cell": {
     "cellMetadata": {
      "byteLimit": 2048000,
      "rowLimit": 10000
     },
     "inputWidgets": {},
     "nuid": "c4e37574-9885-4908-bf97-609d140a8818",
     "showTitle": false,
     "title": ""
    }
   },
   "outputs": [],
   "source": [
    "# Define the schema for the JSON data\n",
    "raw_data_schema = StructType([\n",
    "    StructField(\"date\", StringType(), True), \n",
    "    StructField(\"user\", StringType(), True),\n",
    "    StructField(\"text\", StringType(), True),\n",
    "    StructField(\"sentiment\", StringType(), True),\n",
    "    StructField(\"source_file\", StringType(), True),\n",
    "    StructField(\"processing_time\", TimestampType(), True)\n",
    "])\n"
   ]
  },
  {
   "cell_type": "code",
   "execution_count": 0,
   "metadata": {
    "application/vnd.databricks.v1+cell": {
     "cellMetadata": {
      "byteLimit": 2048000,
      "rowLimit": 10000
     },
     "inputWidgets": {},
     "nuid": "485c96be-051c-4b74-8199-769a7bac6996",
     "showTitle": false,
     "title": ""
    }
   },
   "outputs": [],
   "source": [
    "# Setup read stream\n",
    "streaming_df = (\n",
    "    spark.readStream\n",
    "    .format(\"cloudFiles\")\n",
    "    .option(\"cloudFiles.format\", \"json\")\n",
    "    .schema(raw_data_schema)\n",
    "    .load(TWEET_SOURCE_PATH)\n",
    "    .withColumn(\"source_file\", input_file_name())\n",
    "    .withColumn(\"processing_time\", current_timestamp())\n",
    ")\n"
   ]
  },
  {
   "cell_type": "code",
   "execution_count": 0,
   "metadata": {
    "application/vnd.databricks.v1+cell": {
     "cellMetadata": {
      "byteLimit": 2048000,
      "rowLimit": 10000
     },
     "inputWidgets": {},
     "nuid": "b00c91e6-70ba-44e6-82d5-69659e974883",
     "showTitle": false,
     "title": ""
    }
   },
   "outputs": [],
   "source": [
    "# Write the transformed data to the Bronze Delta table\n",
    "bronze_stream = (\n",
    "    streaming_df.writeStream\n",
    "    .format(\"delta\")\n",
    "    .outputMode(\"append\")\n",
    "    .option(\"checkpointLocation\", BRONZE_CHECKPOINT)\n",
    "    .trigger(once=True)\n",
    "    .option(\"mergeSchema\", \"true\")\n",
    "    .start(BRONZE_DELTA)\n",
    ")"
   ]
  },
  {
   "cell_type": "markdown",
   "metadata": {
    "application/vnd.databricks.v1+cell": {
     "cellMetadata": {
      "byteLimit": 2048000,
      "rowLimit": 10000
     },
     "inputWidgets": {},
     "nuid": "9bc3e824-d218-43e5-a43b-4c6dbe31950d",
     "showTitle": false,
     "title": ""
    }
   },
   "source": [
    "## 4.0 Bronze Data Exploratory Data Analysis\n",
    "- How many tweets are captured in your Bronze Table?\n",
    "- Are there any columns that contain Nan or Null values?  If so how many and what will you do in your silver transforms to address this?\n",
    "- Count the number of tweets by each unique user handle and sort the data by descending count.\n",
    "- How many tweets have at least one mention (@) how many tweet have no mentions (@)\n",
    "- Plot a bar chart that shows the top 20 tweeters (users)\n"
   ]
  },
  {
   "cell_type": "code",
   "execution_count": 0,
   "metadata": {
    "application/vnd.databricks.v1+cell": {
     "cellMetadata": {
      "byteLimit": 2048000,
      "rowLimit": 10000
     },
     "inputWidgets": {},
     "nuid": "091ec59c-d968-4acf-b56f-cc9178cd0693",
     "showTitle": false,
     "title": ""
    }
   },
   "outputs": [],
   "source": [
    "bronze_df = spark.read.format(\"delta\").load(BRONZE_DELTA)"
   ]
  },
  {
   "cell_type": "code",
   "execution_count": 0,
   "metadata": {
    "application/vnd.databricks.v1+cell": {
     "cellMetadata": {
      "byteLimit": 2048000,
      "rowLimit": 10000
     },
     "inputWidgets": {},
     "nuid": "f392920f-e0b6-444e-a816-5a3b14474697",
     "showTitle": false,
     "title": ""
    }
   },
   "outputs": [
    {
     "output_type": "stream",
     "name": "stdout",
     "output_type": "stream",
     "text": [
      "Total number of tweets captured in Bronze Table: 200000\n"
     ]
    }
   ],
   "source": [
    "# Count the Total Number of Tweets\n",
    "total_tweets = bronze_df.count()\n",
    "print(f\"Total number of tweets captured in Bronze Table: {total_tweets}\")"
   ]
  },
  {
   "cell_type": "code",
   "execution_count": 0,
   "metadata": {
    "application/vnd.databricks.v1+cell": {
     "cellMetadata": {
      "byteLimit": 2048000,
      "rowLimit": 10000
     },
     "inputWidgets": {},
     "nuid": "3b470533-4ec7-4523-80eb-58ad30091230",
     "showTitle": false,
     "title": ""
    }
   },
   "outputs": [
    {
     "output_type": "stream",
     "name": "stdout",
     "output_type": "stream",
     "text": [
      "+----+----+----+---------+-----------+---------------+\n|date|user|text|sentiment|source_file|processing_time|\n+----+----+----+---------+-----------+---------------+\n|   0|   0|   0|        0|          0|              0|\n+----+----+----+---------+-----------+---------------+\n\n"
     ]
    }
   ],
   "source": [
    "# Calculate null values in each column\n",
    "null_counts = bronze_df.select([sql_sum(col(c).isNull().cast(\"int\")).alias(c) for c in bronze_df.columns])\n",
    "null_counts.show()"
   ]
  },
  {
   "cell_type": "code",
   "execution_count": 0,
   "metadata": {
    "application/vnd.databricks.v1+cell": {
     "cellMetadata": {
      "byteLimit": 2048000,
      "rowLimit": 10000
     },
     "inputWidgets": {},
     "nuid": "68aaeb8d-33ef-4797-9708-261bc41356c1",
     "showTitle": false,
     "title": ""
    }
   },
   "outputs": [
    {
     "output_type": "stream",
     "name": "stdout",
     "output_type": "stream",
     "text": [
      "Top 20 users by tweet count:\n+---------------+-----+\n|           user|count|\n+---------------+-----+\n|       tweetpet|  310|\n|     nuttychris|  129|\n|      iHomeTech|   81|\n|       tsarnick|   77|\n| Hollywood_Trey|   71|\n|  divxdownloads|   68|\n|      lesley007|   65|\n|  redrobinrockn|   58|\n|    MissxMarisa|   57|\n|     SarahSaner|   56|\n|     sebby_peek|   55|\n|        kasey79|   54|\n|torilovesbradie|   51|\n|    whitsundays|   51|\n|         keza34|   49|\n| MiDesfileNegro|   48|\n|        Dogbook|   47|\n|   TraceyHewins|   46|\n|    effingcards|   43|\n|         Djalfy|   43|\n+---------------+-----+\nonly showing top 20 rows\n\n"
     ]
    }
   ],
   "source": [
    "# count Tweets by Each Unique User\n",
    "user_tweet_counts = bronze_df.groupBy(\"user\").count().orderBy(desc(\"count\"))\n",
    "print(\"Top 20 users by tweet count:\")\n",
    "user_tweet_counts.show(20)\n"
   ]
  },
  {
   "cell_type": "code",
   "execution_count": 0,
   "metadata": {
    "application/vnd.databricks.v1+cell": {
     "cellMetadata": {
      "byteLimit": 2048000,
      "rowLimit": 10000
     },
     "inputWidgets": {},
     "nuid": "2dabcc16-fcf0-4597-8dcd-eb9b1415b4cf",
     "showTitle": false,
     "title": ""
    }
   },
   "outputs": [
    {
     "output_type": "stream",
     "name": "stdout",
     "output_type": "stream",
     "text": [
      "Tweets with at least one mention: 93817\nTweets with no mentions: 106183\n"
     ]
    }
   ],
   "source": [
    "# Count Tweets with and Without Mentions\n",
    "tweets_with_mentions = bronze_df.filter(col(\"text\").contains(\"@\")).count()\n",
    "tweets_without_mentions = total_tweets - tweets_with_mentions\n",
    "\n",
    "print(f\"Tweets with at least one mention: {tweets_with_mentions}\")\n",
    "print(f\"Tweets with no mentions: {tweets_without_mentions}\")\n"
   ]
  },
  {
   "cell_type": "code",
   "execution_count": 0,
   "metadata": {
    "application/vnd.databricks.v1+cell": {
     "cellMetadata": {
      "byteLimit": 2048000,
      "rowLimit": 10000
     },
     "inputWidgets": {},
     "nuid": "b3a4b7eb-0363-42b3-a28d-0776b019f9af",
     "showTitle": false,
     "title": ""
    }
   },
   "outputs": [
    {
     "output_type": "display_data",
     "data": {
      "image/png": "[encoded data removed]"
     },
     "metadata": {
      "application/vnd.databricks.v1+output": {
       "addedWidgets": {},
       "arguments": {},
       "data": "data:image/png;base64,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\n",
       "datasetInfos": [],
       "metadata": {},
       "removedWidgets": [],
       "type": "image"
      }
     },
     "output_type": "display_data"
    }
   ],
   "source": [
    "# Convert to pandas DataFrame\n",
    "pd_tweets_by_user = user_tweet_counts.limit(20).toPandas()\n",
    "\n",
    "# Plotting\n",
    "plt.figure(figsize=(10, 6))\n",
    "plt.bar(pd_tweets_by_user['user'], pd_tweets_by_user['count'], color='skyblue')\n",
    "plt.xlabel('User Handles')\n",
    "plt.ylabel('Number of Tweets')\n",
    "plt.title('Top 20 Tweeters')\n",
    "plt.xticks(rotation=45, ha='right')\n",
    "plt.tight_layout()\n",
    "plt.show()"
   ]
  },
  {
   "cell_type": "markdown",
   "metadata": {
    "application/vnd.databricks.v1+cell": {
     "cellMetadata": {
      "byteLimit": 2048000,
      "rowLimit": 10000
     },
     "inputWidgets": {},
     "nuid": "38c290b9-a42a-4551-857b-3f461b8a1be6",
     "showTitle": false,
     "title": ""
    }
   },
   "source": [
    "## 5.0 Transform the Bronze Data to Silver Data using a stream\n",
    "- setup a read stream on your bronze delta table\n",
    "- setup a write stream to append to the silver delta table\n",
    "- Use the defined SILVER_CHECKPOINT and SILVER_DELTA paths in the includes\n",
    "- name your bronze to silver stream as silver_stream\n",
    "- transform the bronze data to the silver data using the data definition at the top of the notebook"
   ]
  },
  {
   "cell_type": "code",
   "execution_count": 0,
   "metadata": {
    "application/vnd.databricks.v1+cell": {
     "cellMetadata": {
      "byteLimit": 2048000,
      "rowLimit": 10000
     },
     "inputWidgets": {},
     "nuid": "65b029cb-ba45-4625-a9c1-d0d410a4962b",
     "showTitle": false,
     "title": ""
    }
   },
   "outputs": [],
   "source": [
    "# Read from Bronze Delta Table\n",
    "bronze_df = spark.readStream \\\n",
    "    .format(\"delta\") \\\n",
    "    .load(BRONZE_DELTA)\n"
   ]
  },
  {
   "cell_type": "code",
   "execution_count": 0,
   "metadata": {
    "application/vnd.databricks.v1+cell": {
     "cellMetadata": {
      "byteLimit": 2048000,
      "rowLimit": 10000
     },
     "inputWidgets": {},
     "nuid": "e2ea04de-4788-4d4f-b389-cb41e213e965",
     "showTitle": false,
     "title": ""
    }
   },
   "outputs": [],
   "source": [
    "silver_df = bronze_df \\\n",
    "    .withColumn(\"timestamp\", to_timestamp(\"date\", \"yyyy-MM-dd HH:mm:ss\")) \\\n",
    "    .withColumn(\"mention\", expr(\"regexp_extract(text, '(@\\\\w+)', 0)\")) \\\n",
    "    .withColumn(\"cleaned_text\", regexp_replace(\"text\", \"@\\\\w+\", \"\")) \\\n",
    "    .select(\n",
    "        col(\"timestamp\"),\n",
    "        col(\"mention\"),\n",
    "        col(\"cleaned_text\"),\n",
    "        col(\"sentiment\")\n",
    "    )"
   ]
  },
  {
   "cell_type": "code",
   "execution_count": 0,
   "metadata": {
    "application/vnd.databricks.v1+cell": {
     "cellMetadata": {
      "byteLimit": 2048000,
      "rowLimit": 10000
     },
     "inputWidgets": {},
     "nuid": "1f9395dc-371d-4e71-9173-f9dd57f285a0",
     "showTitle": false,
     "title": ""
    }
   },
   "outputs": [],
   "source": [
    "# Set up a write stream to append to the Silver Delta table\n",
    "silver_stream = (\n",
    "    silver_df.writeStream\n",
    "    .format(\"delta\")\n",
    "    .option(\"checkpointLocation\", SILVER_CHECKPOINT)\n",
    "    .outputMode(\"append\")\n",
    "    .trigger(once=True)\n",
    "    .queryName(\"silver_stream\")  # Naming the stream for easier monitoring\n",
    "    .start(SILVER_DELTA)\n",
    ")"
   ]
  },
  {
   "cell_type": "code",
   "execution_count": 0,
   "metadata": {
    "application/vnd.databricks.v1+cell": {
     "cellMetadata": {
      "byteLimit": 2048000,
      "rowLimit": 10000
     },
     "inputWidgets": {},
     "nuid": "8a61fbfd-41d5-42a3-aa58-c8698167dc08",
     "showTitle": false,
     "title": ""
    }
   },
   "outputs": [],
   "source": [
    "# Await termination or programmatically stop the stream\n",
    "silver_stream.awaitTermination()"
   ]
  },
  {
   "cell_type": "markdown",
   "metadata": {
    "application/vnd.databricks.v1+cell": {
     "cellMetadata": {
      "byteLimit": 2048000,
      "rowLimit": 10000
     },
     "inputWidgets": {},
     "nuid": "9ee38aba-e340-4766-8339-71ef2ecfde3a",
     "showTitle": false,
     "title": ""
    }
   },
   "source": [
    "## 6.0 Transform the Silver Data to Gold Data using a stream\n",
    "- setup a read stream on your silver delta table\n",
    "- setup a write stream to append to the gold delta table\n",
    "- Use the defined GOLD_CHECKPOINT and GOLD_DELTA paths defines in the includes\n",
    "- name your silver to gold stream as gold_stream\n",
    "- transform the silver data to the gold data using the data definition at the top of the notebook\n",
    "- Load the pretrained transformer sentiment classifier from the MODEL_NAME at the production level from the MLflow registry\n",
    "- Use a spark UDF to parallelize the inference across your silver data"
   ]
  },
  {
   "cell_type": "code",
   "execution_count": 0,
   "metadata": {
    "application/vnd.databricks.v1+cell": {
     "cellMetadata": {
      "byteLimit": 2048000,
      "rowLimit": 10000
     },
     "inputWidgets": {},
     "nuid": "bf2e6fee-c933-464a-b44d-82a9f39cb56f",
     "showTitle": false,
     "title": ""
    }
   },
   "outputs": [
    {
     "output_type": "stream",
     "name": "stdout",
     "output_type": "stream",
     "text": [
      "/local_disk0/.ephemeral_nfs/envs/pythonEnv-742948a6-3d2c-40f3-8c23-4de35384dd11/lib/python3.9/site-packages/mlflow/store/artifact/utils/models.py:32: FutureWarning: ``mlflow.tracking.client.MlflowClient.get_latest_versions`` is deprecated since 2.9.0. Model registry stages will be removed in a future major release. To learn more about the deprecation of model registry stages, see our migration guide here: https://mlflow.org/docs/2.12.2/model-registry.html#migrating-from-stages\n  latest = client.get_latest_versions(name, None if stage is None else [stage])\n"
     ]
    },
    {
     "output_type": "display_data",
     "data": {
      "application/vnd.jupyter.widget-view+json": {
       "model_id": "c2148bf30f6e4dd398309b0a3101317a",
       "version_major": 2,
       "version_minor": 0
      },
      "text/plain": [
       "Downloading artifacts:   0%|          | 0/25 [00:00<?, ?it/s]"
      ]
     },
     "metadata": {},
     "output_type": "display_data"
    },
    {
     "output_type": "stream",
     "name": "stdout",
     "output_type": "stream",
     "text": [
      "2024/05/12 03:11:36 INFO mlflow.store.artifact.artifact_repo: The progress bar can be disabled by setting the environment variable MLFLOW_ENABLE_ARTIFACTS_PROGRESS_BAR to false\n2024/05/12 03:11:41 WARNING mlflow.utils.requirements_utils: Detected one or more mismatches between the model's dependencies and the current Python environment:\n - mlflow (current: 2.12.2, required: mlflow==2.11.3)\nTo fix the mismatches, call `mlflow.pyfunc.get_model_dependencies(model_uri)` to fetch the model's environment and install dependencies using the resulting environment file.\n2024/05/12 03:11:41 WARNING mlflow.pyfunc: Calling `spark_udf()` with `env_manager=\"local\"` does not recreate the same environment that was used during training, which may lead to errors or inaccurate predictions. We recommend specifying `env_manager=\"conda\"`, which automatically recreates the environment that was used to train the model and performs inference in the recreated environment.\n"
     ]
    },
    {
     "output_type": "display_data",
     "data": {
      "application/vnd.jupyter.widget-view+json": {
       "model_id": "de7881c2573148f7a0d4635917c8c9d1",
       "version_major": 2,
       "version_minor": 0
      },
      "text/plain": [
       "Downloading artifacts:   0%|          | 0/1 [00:00<?, ?it/s]"
      ]
     },
     "metadata": {},
     "output_type": "display_data"
    },
    {
     "output_type": "stream",
     "name": "stdout",
     "output_type": "stream",
     "text": [
      "2024/05/12 03:11:42 INFO mlflow.models.flavor_backend_registry: Selected backend for flavor 'python_function'\n"
     ]
    }
   ],
   "source": [
    "# Load the pretrained model as a Spark UDF\n",
    "model_uri = \"models:/HF_TWEET_SENTIMENT/Production\"\n",
    "predict_udf = mlflow.pyfunc.spark_udf(spark, model_uri, result_type=FloatType())"
   ]
  },
  {
   "cell_type": "code",
   "execution_count": 0,
   "metadata": {
    "application/vnd.databricks.v1+cell": {
     "cellMetadata": {
      "byteLimit": 2048000,
      "rowLimit": 10000
     },
     "inputWidgets": {},
     "nuid": "9cbc270e-e7fb-48f4-b6a7-d678cdedaa07",
     "showTitle": false,
     "title": ""
    }
   },
   "outputs": [],
   "source": [
    "# Read from Silver Delta Table\n",
    "silver_df = spark.readStream.format(\"delta\").load(SILVER_DELTA)"
   ]
  },
  {
   "cell_type": "code",
   "execution_count": 0,
   "metadata": {
    "application/vnd.databricks.v1+cell": {
     "cellMetadata": {
      "byteLimit": 2048000,
      "rowLimit": 10000
     },
     "inputWidgets": {},
     "nuid": "9ae1b39d-6a00-45d9-a64c-21e66baa53c9",
     "showTitle": false,
     "title": ""
    }
   },
   "outputs": [],
   "source": [
    "# Define transformation logic to derive additional fields\n",
    "gold_df = silver_df.select(\n",
    "    col(\"timestamp\"),\n",
    "    col(\"mention\"),\n",
    "    col(\"cleaned_text\"),\n",
    "    col(\"sentiment\"),\n",
    "    predict_udf(col(\"cleaned_text\")).alias(\"predicted_score\"),\n",
    "    when(predict_udf(col(\"cleaned_text\")) > 0.5, \"positive\").otherwise(\"negative\").alias(\"predicted_sentiment\"),\n",
    "    when(col(\"sentiment\") == \"positive\", 1).otherwise(0).alias(\"sentiment_id\"),\n",
    "    when(predict_udf(col(\"cleaned_text\")) > 0.5, 1).otherwise(0).alias(\"predicted_sentiment_id\")\n",
    ")"
   ]
  },
  {
   "cell_type": "code",
   "execution_count": 0,
   "metadata": {
    "application/vnd.databricks.v1+cell": {
     "cellMetadata": {
      "byteLimit": 2048000,
      "rowLimit": 10000
     },
     "inputWidgets": {},
     "nuid": "f64d6d71-c190-42fc-bb30-bf48d774bc9e",
     "showTitle": false,
     "title": ""
    }
   },
   "outputs": [],
   "source": [
    "# Cast predicted_score to double to match the schema\n",
    "gold_df = gold_df.withColumn(\"predicted_score\", col(\"predicted_score\").cast(\"double\"))\n",
    "\n",
    "# Write the transformed Gold Data to the Gold Delta table\n",
    "gold_stream = gold_df.writeStream \\\n",
    "    .format(\"delta\") \\\n",
    "    .outputMode(\"append\") \\\n",
    "    .option(\"checkpointLocation\", GOLD_CHECKPOINT) \\\n",
    "    .trigger(once=True) \\\n",
    "    .start(GOLD_DELTA)"
   ]
  },
  {
   "cell_type": "code",
   "execution_count": 0,
   "metadata": {
    "application/vnd.databricks.v1+cell": {
     "cellMetadata": {
      "byteLimit": 2048000,
      "rowLimit": 10000
     },
     "inputWidgets": {},
     "nuid": "5607e372-733c-477e-92df-4d6ae6c19a8f",
     "showTitle": false,
     "title": ""
    }
   },
   "outputs": [
    {
     "output_type": "stream",
     "name": "stdout",
     "output_type": "stream",
     "text": [
      "Out[40]: DataFrame[timestamp: timestamp, mention: string, cleaned_text: string, sentiment: string, predicted_score: double, predicted_sentiment: string, sentiment_id: int, predicted_sentiment_id: int]"
     ]
    }
   ],
   "source": [
    "gold_df"
   ]
  },
  {
   "cell_type": "markdown",
   "metadata": {
    "application/vnd.databricks.v1+cell": {
     "cellMetadata": {
      "byteLimit": 2048000,
      "rowLimit": 10000
     },
     "inputWidgets": {},
     "nuid": "0494d8b4-5a55-47fc-af12-47325f34a303",
     "showTitle": false,
     "title": ""
    }
   },
   "source": [
    "## 7.0 Capture the accuracy metrics from the gold table in MLflow\n",
    "Store the following in an MLflow experiment run:\n",
    "- Store the precision, recall, and F1-score as MLflow metrics\n",
    "- Store an image of the confusion matrix as an MLflow artifact\n",
    "- Store the mdoel name and the MLflow version that was used as an MLflow parameters\n",
    "- Store the version of the Delta Table (input-silver) as an MLflow parameter"
   ]
  },
  {
   "cell_type": "code",
   "execution_count": 0,
   "metadata": {
    "application/vnd.databricks.v1+cell": {
     "cellMetadata": {
      "byteLimit": 2048000,
      "rowLimit": 10000
     },
     "inputWidgets": {},
     "nuid": "ac3617e6-3493-47c0-ad18-f6cb6a39a7b6",
     "showTitle": false,
     "title": ""
    }
   },
   "outputs": [
    {
     "output_type": "stream",
     "name": "stdout",
     "output_type": "stream",
     "text": [
      "/databricks/python/lib/python3.9/site-packages/sklearn/metrics/_classification.py:1248: UndefinedMetricWarning: Recall and F-score are ill-defined and being set to 0.0 in labels with no true samples. Use `zero_division` parameter to control this behavior.\n  _warn_prf(average, modifier, msg_start, len(result))\n/databricks/python/lib/python3.9/site-packages/sklearn/metrics/_classification.py:1248: UndefinedMetricWarning: Recall and F-score are ill-defined and being set to 0.0 in labels with no true samples. Use `zero_division` parameter to control this behavior.\n  _warn_prf(average, modifier, msg_start, len(result))\n/databricks/python/lib/python3.9/site-packages/sklearn/metrics/_classification.py:1248: UndefinedMetricWarning: Recall and F-score are ill-defined and being set to 0.0 in labels with no true samples. Use `zero_division` parameter to control this behavior.\n  _warn_prf(average, modifier, msg_start, len(result))\n"
     ]
    },
    {
     "output_type": "display_data",
     "data": {
      "image/png": "[encoded data removed]"
     },
     "metadata": {
      "application/vnd.databricks.v1+output": {
       "addedWidgets": {},
       "arguments": {},
       "data": "data:image/png;base64,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\n",
       "datasetInfos": [],
       "metadata": {},
       "removedWidgets": [],
       "type": "image"
      }
     },
     "output_type": "display_data"
    }
   ],
   "source": [
    "import mlflow\n",
    "from sklearn.metrics import classification_report, confusion_matrix\n",
    "import matplotlib.pyplot as plt\n",
    "import seaborn as sns\n",
    "import pandas as pd\n",
    "\n",
    "# Ensure you set the tracking URI and start a run\n",
    "mlflow.set_tracking_uri(\"databricks\")\n",
    "with mlflow.start_run():\n",
    "    # Read data from the Gold Delta Table\n",
    "    gold_df = spark.read.format(\"delta\").load(\"/tmp/labuser104917-2387441/gold.delta\")\n",
    "    pandas_df = gold_df.select(\"sentiment_id\", \"predicted_sentiment_id\").toPandas()\n",
    "    \n",
    "    # Calculate metrics\n",
    "    report = classification_report(pandas_df['sentiment_id'], pandas_df['predicted_sentiment_id'], output_dict=True)\n",
    "    conf_matrix = confusion_matrix(pandas_df['sentiment_id'], pandas_df['predicted_sentiment_id'])\n",
    "    \n",
    "    # Log metrics\n",
    "    mlflow.log_metric(\"precision\", report['weighted avg']['precision'])\n",
    "    mlflow.log_metric(\"recall\", report['weighted avg']['recall'])\n",
    "    mlflow.log_metric(\"f1-score\", report['weighted avg']['f1-score'])\n",
    "    \n",
    "    # Log confusion matrix as an image\n",
    "    plt.figure(figsize=(10, 7))\n",
    "    sns.heatmap(conf_matrix, annot=True, fmt='d')\n",
    "    plt.title('Confusion Matrix')\n",
    "    plt.savefig(\"/tmp/confusion_matrix.png\")\n",
    "    mlflow.log_artifact(\"/tmp/confusion_matrix.png\")\n",
    "    \n",
    "    # Log model details\n",
    "    mlflow.log_param(\"model_name\", \"HF_TWEET_SENTIMENT\")\n",
    "    mlflow.log_param(\"model_version\", \"1.0\")\n",
    "    mlflow.log_param(\"delta_table_version\", \"silver_table_version_here\")  \n"
   ]
  },
  {
   "cell_type": "markdown",
   "metadata": {
    "application/vnd.databricks.v1+cell": {
     "cellMetadata": {
      "byteLimit": 2048000,
      "rowLimit": 10000
     },
     "inputWidgets": {},
     "nuid": "81e0e2de-b872-4698-81cc-1669646c2183",
     "showTitle": false,
     "title": ""
    }
   },
   "source": [
    "## 8.0 Application Data Processing and Visualization\n",
    "- How many mentions are there in the gold data total?\n",
    "- Count the number of neutral, positive and negative tweets for each mention in new columns\n",
    "- Capture the total for each mention in a new column\n",
    "- Sort the mention count totals in descending order\n",
    "- Plot a bar chart of the top 20 mentions with positive sentiment (the people who are in favor)\n",
    "- Plot a bar chart of the top 20 mentions with negative sentiment (the people who are the vilians)\n",
    "\n",
    "You may want to use the \"Loop Application\" widget to control whether you repeateded display the latest plots while the data comes in from your streams before moving on to the next section and cleaning up your run.\n",
    "\n",
    "*note: A mention is a specific twitter user that has been \"mentioned\" in a tweet with an @user reference."
   ]
  },
  {
   "cell_type": "code",
   "execution_count": 0,
   "metadata": {
    "application/vnd.databricks.v1+cell": {
     "cellMetadata": {
      "byteLimit": 2048000,
      "rowLimit": 10000
     },
     "inputWidgets": {},
     "nuid": "8250667b-eaa5-48a1-90c7-bfe11e666e32",
     "showTitle": false,
     "title": ""
    }
   },
   "outputs": [],
   "source": [
    "from pyspark.sql.functions import col, count, sum, when\n",
    "\n",
    "# Read data from the Gold Delta Table\n",
    "gold_df = spark.read.format(\"delta\").load(\"/tmp/labuser104917-2387441/gold.delta\")\n",
    "\n",
    "# Ensure the 'sentiment' column exists and categorize sentiments\n",
    "gold_df = gold_df.withColumn(\"positive\", when(col(\"sentiment\") == \"positive\", 1).otherwise(0))\n",
    "gold_df = gold_df.withColumn(\"negative\", when(col(\"sentiment\") == \"negative\", 1).otherwise(0))\n",
    "gold_df = gold_df.withColumn(\"neutral\", when(col(\"sentiment\") == \"neutral\", 1).otherwise(0))\n",
    "\n",
    "# Aggregate counts by mention\n",
    "sentiment_counts = gold_df.groupBy(\"mention\").agg(\n",
    "    count(\"mention\").alias(\"total_mentions\"),\n",
    "    sum(col(\"positive\").cast(\"integer\")).alias(\"positive_count\"),\n",
    "    sum(col(\"negative\").cast(\"integer\")).alias(\"negative_count\"),\n",
    "    sum(col(\"neutral\").cast(\"integer\")).alias(\"neutral_count\")\n",
    ").cache()  # Use cache if you're going to use this DataFrame multiple times"
   ]
  },
  {
   "cell_type": "code",
   "execution_count": 0,
   "metadata": {
    "application/vnd.databricks.v1+cell": {
     "cellMetadata": {
      "byteLimit": 2048000,
      "rowLimit": 10000
     },
     "inputWidgets": {},
     "nuid": "eca4a6cb-0fc8-4b2c-b4da-783b945c51c1",
     "showTitle": false,
     "title": ""
    }
   },
   "outputs": [
    {
     "output_type": "display_data",
     "data": {
      "image/png": "[encoded data removed]"
     },
     "metadata": {
      "application/vnd.databricks.v1+output": {
       "addedWidgets": {},
       "arguments": {},
       "data": "data:image/png;base64,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\n",
       "datasetInfos": [],
       "metadata": {},
       "removedWidgets": [],
       "type": "image"
      }
     },
     "output_type": "display_data"
    }
   ],
   "source": [
    "# Find the top 20 mentions with positive sentiment\n",
    "top_positive = sentiment_counts.orderBy(col(\"positive_count\").desc()).limit(20).toPandas()\n",
    "\n",
    "# Plot top 20 mentions with positive sentiment\n",
    "plt.figure(figsize=(10, 6))\n",
    "plt.bar(top_positive['mention'], top_positive['positive_count'], color='green')\n",
    "plt.xlabel('Mentions')\n",
    "plt.ylabel('Count of Positive Tweets')\n",
    "plt.title('Top 20 Mentions with Positive Sentiment')\n",
    "plt.xticks(rotation=45, ha=\"right\")\n",
    "plt.tight_layout()  # Adjust layout to make room for rotated x-axis labels\n",
    "plt.show()"
   ]
  },
  {
   "cell_type": "code",
   "execution_count": 0,
   "metadata": {
    "application/vnd.databricks.v1+cell": {
     "cellMetadata": {
      "byteLimit": 2048000,
      "rowLimit": 10000
     },
     "inputWidgets": {},
     "nuid": "eda41aa2-fe0a-4dd8-9719-15101f4fc446",
     "showTitle": false,
     "title": ""
    }
   },
   "outputs": [
    {
     "output_type": "display_data",
     "data": {
      "image/png": "[encoded data removed]"
     },
     "metadata": {
      "application/vnd.databricks.v1+output": {
       "addedWidgets": {},
       "arguments": {},
       "data": "data:image/png;base64,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\n",
       "datasetInfos": [],
       "metadata": {},
       "removedWidgets": [],
       "type": "image"
      }
     },
     "output_type": "display_data"
    }
   ],
   "source": [
    "# Find the top 20 mentions with negative sentiment\n",
    "top_negative = sentiment_counts.orderBy(col(\"negative_count\").desc()).limit(20).toPandas()\n",
    "\n",
    "# Plot top 20 mentions with negative sentiment\n",
    "plt.figure(figsize=(10, 6))\n",
    "plt.bar(top_negative['mention'], top_negative['negative_count'], color='green')\n",
    "plt.xlabel('Mentions')\n",
    "plt.ylabel('Count of negative Tweets')\n",
    "plt.title('Top 20 Mentions with negative Sentiment')\n",
    "plt.xticks(rotation=45, ha=\"right\")\n",
    "plt.tight_layout()  # Adjust layout to make room for rotated x-axis labels\n",
    "plt.show()"
   ]
  },
  {
   "cell_type": "markdown",
   "metadata": {
    "application/vnd.databricks.v1+cell": {
     "cellMetadata": {
      "byteLimit": 2048000,
      "rowLimit": 10000
     },
     "inputWidgets": {},
     "nuid": "5d5add3f-0c13-4d81-86d8-12cf3cfdd2c8",
     "showTitle": false,
     "title": ""
    }
   },
   "source": [
    "## 9.0 Clean up and completion of your pipeline\n",
    "- using the utilities what streams are running? If any.\n",
    "- Stop all active streams\n",
    "- print out the elapsed time of your notebook."
   ]
  },
  {
   "cell_type": "code",
   "execution_count": 0,
   "metadata": {
    "application/vnd.databricks.v1+cell": {
     "cellMetadata": {
      "byteLimit": 2048000,
      "rowLimit": 10000
     },
     "inputWidgets": {},
     "nuid": "e44f1ef8-4419-4475-8cc7-0d9a3bd28a99",
     "showTitle": false,
     "title": ""
    }
   },
   "outputs": [
    {
     "output_type": "stream",
     "name": "stdout",
     "output_type": "stream",
     "text": [
      "Listing all active streams:\nElapsed time of the notebook: 0.010938167572021484 seconds\n"
     ]
    }
   ],
   "source": [
    "from pyspark.sql import SparkSession\n",
    "import time\n",
    "\n",
    "# Assuming the start time was captured at the beginning of the notebook\n",
    "start_time = time.time()\n",
    "\n",
    "# Get the Spark session\n",
    "spark = SparkSession.builder.getOrCreate()\n",
    "\n",
    "# List all active streams\n",
    "print(\"Listing all active streams:\")\n",
    "for stream in spark.streams.active:\n",
    "    print(f\"Stream Name: {stream.name}, Stream ID: {stream.id}\")\n",
    "\n",
    "# Stop all active streams\n",
    "for stream in spark.streams.active:\n",
    "    print(f\"Stopping stream: {stream.name}\")\n",
    "    stream.stop()\n",
    "\n",
    "# Calculate and print the elapsed time\n",
    "end_time = time.time()\n",
    "elapsed_time = end_time - start_time\n",
    "print(f\"Elapsed time of the notebook: {elapsed_time} seconds\")\n"
   ]
  },
  {
   "cell_type": "code",
   "execution_count": 0,
   "metadata": {
    "application/vnd.databricks.v1+cell": {
     "cellMetadata": {
      "byteLimit": 2048000,
      "rowLimit": 10000
     },
     "inputWidgets": {},
     "nuid": "ea759fc8-1d78-4d6d-b571-e2e256448b76",
     "showTitle": false,
     "title": ""
    }
   },
   "outputs": [],
   "source": [
    "# Get the notebooks ending time note START_TIME was established in the include file when the notebook started.\n",
    "END_TIME = time.time()"
   ]
  },
  {
   "cell_type": "markdown",
   "metadata": {
    "application/vnd.databricks.v1+cell": {
     "cellMetadata": {
      "byteLimit": 2048000,
      "rowLimit": 10000
     },
     "inputWidgets": {},
     "nuid": "b88fc0e5-f50c-4ed1-9480-16a4c8a44b30",
     "showTitle": false,
     "title": ""
    }
   },
   "source": [
    "## 10.0 How Optimized is your Spark Application (Grad Students Only)\n",
    "Graduate students (registered for the DSCC-402 section of the course) are required to do this section.  This is a written analysis using the Spark UI (link to screen shots) that support your analysis of your pipelines execution and what is driving its performance.\n",
    "Recall that Spark Optimization has 5 significant dimensions of considertation:\n",
    "- Spill: write to executor disk due to lack of memory\n",
    "- Skew: imbalance in partition size\n",
    "- Shuffle: network io moving data between executors (wide transforms)\n",
    "- Storage: inefficiency due to disk storage format (small files, location)\n",
    "- Serialization: distribution of code segments across the cluster\n",
    "\n",
    "Comment on each of the dimentions of performance and how your impelementation is or is not being affected.  Use specific information in the Spark UI to support your description.  \n",
    "\n",
    "Note: you can take sreenshots of the Spark UI from your project runs in databricks and then link to those pictures by storing them as a publicly accessible file on your cloud drive (google, one drive, etc.)\n",
    "\n",
    "References:\n",
    "- [Spark UI Reference Reference](https://spark.apache.org/docs/latest/web-ui.html#web-ui)\n",
    "- [Spark UI Simulator](https://www.databricks.training/spark-ui-simulator/index.html)"
   ]
  },
  {
   "cell_type": "markdown",
   "metadata": {
    "application/vnd.databricks.v1+cell": {
     "cellMetadata": {
      "byteLimit": 2048000,
      "rowLimit": 10000
     },
     "inputWidgets": {},
     "nuid": "a0a5707d-a5ca-4e87-9e74-3b13d00337b0",
     "showTitle": false,
     "title": ""
    }
   },
   "source": [
    "Spill: Spilling occurs when the data being processed does not fit into memory, causing Spark to write data to disk. This can degrade performance because disk operations are significantly slower than in-memory operations. This is not too obvious for my project.Increasing the memory allocation for your Spark executors can help reduce spill but this is not the case for me. One example for improvement is to consider filtering data earlier in my pipelines or adjusting the spark.memory.fraction to allocate more memory for execution instead of storage.\n",
    "\n",
    "Skew: Data skew occurs when the data is unevenly distributed across partitions, resulting in certain tasks taking much longer to complete than others. This is the biggest problem in all three of my tables (bronze, silver and gold). This significantly reduced my streaming speed so that I had to rely on using \"trigger\". Addressing skew might involve repartitioning the data based on a more evenly distributed key or increasing the number of partitions. Techniques like salting can also be used during joins to distribute the load more evenly.\n",
    "\n",
    "Shuffle: Shuffle occurs when data needs to be redistributed across partitions to perform certain operations like sorting or aggregation. It is often the most expensive operation in terms of network and disk I/O. I  However, I did not use my strategies to reduce shuffle such as minimizing the operations that require shuffling. \n",
    "\n",
    "Storage: Inefficient storage involves the persistence and retrieval of data, affected by the choice of data format and serialization. Small files is another big problem I encourtered during the project. It further led to spills and skews. I used cache but it did not help improve my situation.\n",
    "\n",
    "Serialization: Serialization is the process of converting data structures or object states into a format that can be stored and reconstructed later. Inefficient serialization can increase the data size and the overhead of network transmission. I did not use any improvement strategy with serialization. "
   ]
  }
 ],
 "metadata": {
  "application/vnd.databricks.v1+notebook": {
   "dashboards": [],
   "language": "python",
   "notebookMetadata": {
    "mostRecentlyExecutedCommandWithImplicitDF": {
     "commandId": -1,
     "dataframes": [
      "_sqldf"
     ]
    },
    "pythonIndentUnit": 4,
    "widgetLayout": [
     {
      "breakBefore": false,
      "name": "clear_previous_run",
      "width": 203
     },
     {
      "breakBefore": false,
      "name": "stop_streams",
      "width": 203
     }
    ]
   },
   "notebookName": "Starter Streaming Tweet Sentiment - Spring 2024 Final Project",
   "widgets": {
    "clear_previous_run": {
     "currentValue": "No",
     "nuid": "11b43403-c70f-41ef-ab0e-41172583baaa",
     "typedWidgetInfo": null,
     "widgetInfo": {
      "widgetType": "dropdown",
      "defaultValue": "No",
      "label": null,
      "name": "clear_previous_run",
      "options": {
       "widgetType": "dropdown",
       "autoCreated": null,
       "choices": [
        "No",
        "Yes"
       ]
      }
     }
    },
    "optimize_tables": {
     "currentValue": "No",
     "nuid": "d27f2950-3146-4010-8bc6-58c47a93e7a9",
     "typedWidgetInfo": null,
     "widgetInfo": {
      "widgetType": "dropdown",
      "defaultValue": "No",
      "label": null,
      "name": "optimize_tables",
      "options": {
       "widgetType": "dropdown",
       "autoCreated": null,
       "choices": [
        "No",
        "Yes"
       ]
      }
     }
    },
    "stop_streams": {
     "currentValue": "No",
     "nuid": "d70a2190-266e-473c-86a7-84f7bf56b386",
     "typedWidgetInfo": null,
     "widgetInfo": {
      "widgetType": "dropdown",
      "defaultValue": "No",
      "label": null,
      "name": "stop_streams",
      "options": {
       "widgetType": "dropdown",
       "autoCreated": null,
       "choices": [
        "No",
        "Yes"
       ]
      }
     }
    }
   }
  }
 },
 "nbformat": 4,
 "nbformat_minor": 0
}
